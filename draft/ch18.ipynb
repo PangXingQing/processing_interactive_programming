{
 "cells": [
  {
   "cell_type": "markdown",
   "id": "73be2f66",
   "metadata": {},
   "source": [
    "### 第十八章 文本"
   ]
  },
  {
   "cell_type": "markdown",
   "id": "9e546c7e",
   "metadata": {},
   "source": [
    "#### 本章内容"
   ]
  },
  {
   "cell_type": "markdown",
   "id": "c00335ce",
   "metadata": {},
   "source": [
    "1. 输入输出字符\n",
    "2. 转义字符\n",
    "3. 文本编码\n",
    "4. 使用字体\n",
    "5. 使用py5绘制字符"
   ]
  },
  {
   "cell_type": "markdown",
   "id": "cd0458fe",
   "metadata": {},
   "source": [
    "#### 1. 输入输出字符"
   ]
  },
  {
   "cell_type": "markdown",
   "id": "aed07b0b",
   "metadata": {},
   "source": [
    "在编程中，输出信息是与用户交互的重要环节。尤其在调试或者向用户展示结果时，能够以清晰和格式化的方式准确输出文本信息是非常必要的。Python提供了多种方式来进行文本的格式化输出，其中部分方法借鉴了其他语言的特色，例如C语言中的`printf`。掌握这些技巧不仅可以提升代码的可读性，同时也能增强程序的交互性，特别是在涉及到输出多种类型数据时。\n",
    "\n",
    "在本节中，我们将学习如何使用 `%` 运算符进行字符串的格式化，以便将变量以特定的格式嵌入到输出字符串中。掌握这种形式的输出方法对于任何希望提高编程效率与输出格式化质量的程序员来说都是至关重要的。\n",
    "\n",
    "使用 `printf` 风格的格式化输出可以通过以下基本语法实现："
   ]
  },
  {
   "cell_type": "code",
   "execution_count": null,
   "id": "dad20db5",
   "metadata": {},
   "outputs": [],
   "source": [
    "name = \"PXQ\"\n",
    "age = 30\n",
    "print(\"My name is %s and I am %d years old.\" % (name, age))"
   ]
  },
  {
   "cell_type": "markdown",
   "id": "201d70c8",
   "metadata": {},
   "source": [
    "\n",
    "上面的代码说明了如何格式化输出字符串。在这里：\n",
    "- `%s` 是占位符，用于表示字符串，`%d` 是占位符，用于表示整数。这样就可以通过定义的变量 `name` 和 `age` 来填充输出文本。\n",
    "\n",
    "这种方式使得我们在构建输出字符串时能更灵活地控制格式和内容。\n",
    "\n",
    "在使用 `printf` 风格的格式时，以下常见的格式符需要特别注意：\n",
    "\n",
    "- `%s`：格式化为字符串\n",
    "- `%d`：格式化为十进制整数\n",
    "- `%f`：格式化为浮点数\n",
    "- `%x`：格式化为十六进制整数\n",
    "- `%e`：格式化为科学计数法"
   ]
  },
  {
   "cell_type": "code",
   "execution_count": null,
   "id": "7dbb2139",
   "metadata": {},
   "outputs": [],
   "source": [
    "temperature = 23.5\n",
    "print(\"The current temperature is %.1f degrees.\" % temperature)  # 输出：The current temperature is 23.5 degrees."
   ]
  },
  {
   "cell_type": "markdown",
   "id": "1e7d649b",
   "metadata": {},
   "source": [
    "在这个例子中，`%.1f` 表示输出一个浮点数，保留一位小数，这对于表示温度等数据非常实用。\n",
    "\n",
    "在实际编程中，我们常常需要结合多种数据类型进行输出。这时，我们可以自由组合不同的格式符来达到需求："
   ]
  },
  {
   "cell_type": "code",
   "execution_count": null,
   "id": "7c9c86e8",
   "metadata": {},
   "outputs": [],
   "source": [
    "student_name = \"小明\"\n",
    "student_age = 20\n",
    "student_score = 88.5\n",
    "\n",
    "print(\"Student: %s, Age: %d, Score: %.2f\" % (student_name, student_age, student_score))"
   ]
  },
  {
   "cell_type": "markdown",
   "id": "f358dda4",
   "metadata": {},
   "source": [
    "在这个示例中，学生的姓名、年龄以及成绩不断以不同的格式输出。通过将 `%.2f` 应用于 `student_score`, 我们可以确保成绩输出到小数点后两位，提升数据的可读性。\n",
    "\n",
    "在这个过程中，每个格式符都精确地控制了输出内容的分类和显示方式，使信息的展示更加清晰。\n",
    "\n",
    "在使用 `printf` 风格的输出时，需要注意以下几点：\n",
    "\n",
    "- **数据类型匹配**：确保提供的变量类型与对应的格式符匹配，否则会引发错误。例如，若格式符为 `%d`，而提供了一个字符串，将导致 `TypeError`。\n",
    "- **格式符数量**：所用格式符的数量应与提供的变量数量相匹配。如果不一致，输出结果可能会不如预期，甚至导致程序崩溃。\n",
    "\n",
    "与输出字符相对的功能就是输入字符，使用`input()`函数从用户接收输入，并使用`print()`函数格式化输出。以下是简单示例："
   ]
  },
  {
   "cell_type": "code",
   "execution_count": null,
   "id": "efcbb73f",
   "metadata": {},
   "outputs": [],
   "source": [
    "user_input = input(\"请输入一个字符: \")\n",
    "print(\"您输入的字符是:\", user_input)\n",
    "\n",
    "char = input(\"请输入一个字符: \")\n",
    "print(\"字符 '{}' 的 ASCII 编码是: {}\".format(char, ord(char)))"
   ]
  },
  {
   "cell_type": "markdown",
   "id": "dba49897",
   "metadata": {},
   "source": [
    "#### 2. 转义字符"
   ]
  },
  {
   "cell_type": "markdown",
   "id": "bbca874f",
   "metadata": {},
   "source": [
    "在编程中，我们经常需要在字符串中使用特殊字符，例如换行符、制表符或引号等。然而，这些特殊字符可能会被误解为语法符号，导致程序运行错误。这时，转义字符发挥了关键作用。转义字符是一种用于表示字符串中不可直接输入的字符的方法，让我们能够在文本中安全地使用这些特殊符号。\n",
    "\n",
    "假设你正在编写一个包含多行文本的程序，想在文本中插入换行符。你可能会想知道，如何在实际的字符串中做到这一点？如果你尝试直接输入换行符，编译器会将其误解为代码的结束。那么，如何在程序中正确插入这些字符呢？这就是转义字符的目的。通过使用特定的字符组合，我们能够在字符串中包含这些特殊符号，而不干扰语言的语法结构。\n",
    "\n",
    "转义字符的概念最早可以追溯到打字机时代。当时，某些符号和命令无法在文本中直接输入，因此需要引入特定的字符来“转义”这些特殊命令。这种设计理念被延续到现代编程语言中，以便程序员能够在字符串中轻松地插入这些特殊字符，而不会引起语法错误。\n",
    "\n",
    "例如，反斜杠`(\\)`被用作转义字符，后面跟随的特定字符可以表示控制字符或者其他无法直接输入的字符。这种方法让我们能够在字符串中包含各种特殊字符，从而实现丰富的文本表现。\n",
    "\n",
    "在Python中，以下是一些常用的转义字符及其功能：\n",
    "\n",
    "- `\\n`：换行符，使文本从当前行移动到下一行。\n",
    "- `\\t`：制表符，实现文本的水平制表。\n",
    "- `\\\\`：反斜杠本身的转义。\n",
    "- `\\'`：单引号，在单引号字符串中插入单引号。\n",
    "- `\\\"`：双引号，在双引号字符串中插入双引号。\n",
    "- `\\r`：回车符，将光标移动到行首。"
   ]
  },
  {
   "cell_type": "code",
   "execution_count": null,
   "id": "d90bb010",
   "metadata": {},
   "outputs": [],
   "source": [
    "\n",
    "# 使用换行符\n",
    "print(\"第一行\\n第二行\")  # 输出为：\n",
    "# 第一行\n",
    "# 第二行\n",
    "\n",
    "# 使用制表符\n",
    "print(\"姓名:\\t德鲁伊大师\")  # 输出为：姓名:    德鲁伊大师\n",
    "\n",
    "# 使用反斜杠\n",
    "print(\"路径是 C:\\\\User\\\\Documents\")  # 输出为：路径是 C:\\User\\Documents\n",
    "\n",
    "# 使用引号\n",
    "print('她说：“你好，世界！”')  # 输出为：她说：“你好，世界！”\n",
    "print(\"他说：\\\"今天天气不错。\\\"\")  # 输出为：他说：“今天天气不错。”"
   ]
  },
  {
   "cell_type": "markdown",
   "id": "7b78cf8a",
   "metadata": {},
   "source": [
    "在上述例子中，使用转义字符后，字符串的输出效果如预期，实现了更复杂的文本表现。\n",
    "\n",
    "转义字符为我们提供了在字符串中直接插入特殊文本的能力，这在处理文件路径、正则表达式、打印多行文本等场景中尤为重要。它不仅能够避免语法错误，还能够让程序的输出更加多样化和人性化。"
   ]
  },
  {
   "cell_type": "markdown",
   "id": "6006e310",
   "metadata": {},
   "source": [
    "#### 3. 文本编码"
   ]
  },
  {
   "cell_type": "markdown",
   "id": "045dcc18",
   "metadata": {},
   "source": [
    "在前面的章节中，我们讨论了如何使用Python输出文本，你会发现通过简单的`print()`函数调用，不仅可以输出英文字符，也可以方便地显示中文字符。如果你用手机输入，还能够轻松插入emoji等各种图形符号，这些都彰显了现代计算机的强大功能。那么，文字在计算机中究竟是如何表示的呢？\n",
    "\n",
    "计算机处理的信息都是以数字形式存储的，而字符则需要通过某种编码规则将其转换为数字。文本编码正是这种规则的体现，通过它，我们可以将字符与数字之间进行准确的映射。了解文本编码的基本概念将帮助我们更好地处理各种语言和字符集，尤其是在涉及多种语言的应用程序中。\n",
    "\n",
    "**3.1. ASCII编码**\n",
    "\n",
    "ASCII（American Standard Code for Information Interchange）是一种最早的字符编码标准，主要用于表示英语字符。ASCII编码使用7位二进制数来表示128个字符，包括26个大写字母（A-Z）、26个小写字母（a-z）、数字0-9，以及一些基本的标点符号和控制字符（如换行符、制表符等）。\n",
    "\n",
    "例如，字母'A'的ASCII编码是65，字母'a'的ASCII编码是97。以下是一些ASCII字符及其对应编码的示例："
   ]
  },
  {
   "cell_type": "code",
   "execution_count": null,
   "id": "6b012fc6",
   "metadata": {},
   "outputs": [],
   "source": [
    "# 输出字母A和它的ASCII值\n",
    "print(\"字母 A 的 ASCII 编码是:\", ord('A'))  # 输出：字母 A 的 ASCII 编码是: 65\n",
    "print(\"字母 a 的 ASCII 编码是:\", ord('a'))  # 输出：字母 a 的 ASCII 编码是: 97"
   ]
  },
  {
   "cell_type": "markdown",
   "id": "2eee2fdc",
   "metadata": {},
   "source": [
    "在这个例子中，使用`ord()`函数可以获取指定字符的ASCII值。\n",
    "\n",
    "伴随着全球化和互联网的发展，单一的 ASCII 编码逐渐无法满足需求。试想，如果软件仅依赖于ASCII编码，那么对于中文、日文、阿拉伯文或其他语言的字符，就无法进行有效表示，这无疑限制了用户与软件的交流。\n",
    "\n",
    "为了克服ASCII的局限性，Unicode标准应运而生，它旨在为全球所有的字符提供唯一的编码。UTF（Unicode Transformation Format）是最常用的Unicode编码方式之一，能够表示多种语言的字符。UTF-8是其中最常见的一种编码形式。\n",
    "\n",
    "UTF-8是变长编码，根据不同字符长度可使用1到4个字节来表示每个字符。具体来说：\n",
    "\n",
    "- **1字节**：用于表示基本ASCII字符（如A-Z、0-9），与ASCII编码完全兼容。\n",
    "- **2字节**：用于表示拉丁文和其他西欧语言的特殊字符。\n",
    "- **3字节**：用于表示大部分常用的语言字符，如汉字。\n",
    "- **4字节**：用于表示一些不常用的字符和符号，比如emoji等。\n",
    "\n",
    "在Python中，字符串默认以UTF-8编码，使得我们在处理多种语言字符串时几乎不必担心编码问题。以下是UTF-8的示例："
   ]
  },
  {
   "cell_type": "code",
   "execution_count": null,
   "id": "9e7763ea",
   "metadata": {},
   "outputs": [],
   "source": [
    "# 英文字符，使用1个字节\n",
    "english_char = \"A\"\n",
    "print(f\"字符 '{english_char}' 的 UTF-8 编码是:\", english_char.encode('utf-8')) \n",
    "# 输出：字符 'A' 的 UTF-8 编码是: b'A'\n",
    "\n",
    "# 中文字符，使用3个字节\n",
    "chinese_char = \"汉\"\n",
    "print(f\"字符 '{chinese_char}' 的 UTF-8 编码是:\", chinese_char.encode('utf-8'))  \n",
    "# 输出：字符 '汉' 的 UTF-8 编码是: b'\\xe6\\xb1\\x89'\n",
    "\n",
    "# emoji字符，使用4个字节\n",
    "emoji_char = \"😀\"\n",
    "print(f\"字符 '{emoji_char}' 的 UTF-8 编码是:\", emoji_char.encode('utf-8')) \n",
    "# 输出：字符 '😀' 的 UTF-8 编码是: b'\\xf0\\x9f\\x98\\x80'"
   ]
  },
  {
   "cell_type": "markdown",
   "id": "3bc37904",
   "metadata": {},
   "source": [
    "在这个例子中，`encode('utf-8')`方法将字符串转换为相应的UTF-8编码的字节形式，`b'\\xe6\\xb1\\x89'`就是汉字“汉”的UTF-8编码。"
   ]
  },
  {
   "cell_type": "markdown",
   "id": "e8cc2e65",
   "metadata": {},
   "source": [
    "#### 4. 使用字体"
   ]
  },
  {
   "cell_type": "markdown",
   "id": "5f5f9571",
   "metadata": {},
   "source": [
    "在前面的章节中，我们使用过Noto字体文件，它是一款支持多种语言的开源字体，这使得我们能够在Python程序中轻松地展示多样化的文本内容。但你是否想过，为什么仅仅依靠Unicode编码，却不能再Processing环境中显示中文？\n",
    "\n",
    "Unicode编码为每个字符分配了一个唯一的数字，而显示这些字符的关键在于字体文件。字体文件不仅定义了字符的形状、样式、粗细和斜体等视觉特征，还控制着如何将这些Unicode字符呈现为可以被用户识别的图形。因此，合适的字体选择在设计和用户体验中至关重要。接\n",
    "\n",
    "字体文件包含了多种信息，包括字形设计（也即每个字符的视觉表现）、字距（即字符之间的空间）、行距（即行与行之间的距离）、特定字形的变体（如粗体、斜体）等常规信息。字体文件的常见格式有TTF（TrueType Font）和OTF（OpenType Font）等。\n",
    "\n",
    "- **TTF（TrueType Font）**：由Apple和Microsoft开发，支持非常丰富的字体细节，并在大多数平台上得到广泛支持。\n",
    "  \n",
    "- **OTF（OpenType Font）**：是TTF的扩展，支持更多的字形变体及复杂的排版管理，适用于多语言和特殊字符的显示。\n",
    "\n",
    "当我们在编程或设计中需要展示文本时，字体文件提供了必要的视觉信息，使得文本不仅仅是一串字符，而是具有形象化效果的内容。\n",
    "\n",
    "在Py5中，我们可以很方便地加载和使用字体文件，确保我们的应用程序可以以美观的方式显示文本。以下是如何在Py5中使用Noto字体文件的步骤：\n",
    "\n",
    "- **准备字体文件**：下载Noto字体（例如，NotoSans-Regular.ttf），确保将其放置在程序工作目录中。\n",
    "\n",
    "- **导入Py5并加载字体**：我们需要在Py5环境中加载字体，并在绘图函数中设置字体。"
   ]
  },
  {
   "cell_type": "code",
   "execution_count": null,
   "id": "52b9fec3",
   "metadata": {},
   "outputs": [],
   "source": [
    "# 在 Jupyter 代码单元中强制重启内核\n",
    "import IPython\n",
    "IPython.get_ipython().run_line_magic('reset', '-f')   \n",
    "\n",
    "import py5\n",
    "\n",
    "def setup():\n",
    "    py5.size(200, 200)  # 设置窗口大小\n",
    "    py5.text_font(py5.create_font(\"Noto Sans Thin\", 24))  # 加载 Noto 字体\n",
    "\n",
    "def draw():\n",
    "    py5.background(255)  # 设置背景颜色为白色\n",
    "    py5.fill(0)  # 设置文本颜色为黑色\n",
    "    py5.text(\"Hello, 你好!\", 50, 50)  # 在指定位置绘制文本\n",
    "\n",
    "py5.run_sketch()  # 运行 p5.js 程序"
   ]
  },
  {
   "cell_type": "markdown",
   "id": "e4ac47a0",
   "metadata": {},
   "source": [
    "在这个例子中，`create_font()`函数用于加载Noto字体文件并设置字体大小。之后，`text_font()`函数将字体应用于后续的文本输出。通过这种方法，文本的呈现可以根据不同的字体文件进行自定义，以更好地符合设计需求。\n",
    "\n",
    "在使用字体时，我们还可以通过不同的字体文件来实现各种样式。例如，如果我们需要输出斜体文本或粗体文本，可以下载相应的Noto字体变体（如NotoSans-Italic.ttf或NotoSans-Bold.ttf），并在程序中替换加载的字体文件。"
   ]
  },
  {
   "cell_type": "code",
   "execution_count": null,
   "id": "757eca7d",
   "metadata": {},
   "outputs": [],
   "source": [
    "# 在 Jupyter 代码单元中强制重启内核\n",
    "import IPython\n",
    "IPython.get_ipython().run_line_magic('reset', '-f')   \n",
    "\n",
    "import py5\n",
    "\n",
    "def setup():\n",
    "    py5.size(400, 200)\n",
    "    # 加载粗体样式的 Noto 字体\n",
    "    bold_font = py5.create_font(\"Noto Sans Bold\", 24)\n",
    "    py5.text_font(bold_font)\n",
    "\n",
    "def draw():\n",
    "    py5.background(255)\n",
    "    py5.fill(0)\n",
    "    py5.text(\"Bold Text! 黑体字！\", 50, 50)\n",
    "    \n",
    "py5.run_sketch()  # 运行 p5.js 程序"
   ]
  },
  {
   "cell_type": "markdown",
   "id": "6050e49a",
   "metadata": {},
   "source": [
    "在使用字体时，有几个因素需要注意：\n",
    "- **字体授权**：确保你使用的字体文件具有合法的授权，特别是在发布过程中需要遵循版权规定。\n",
    "- **字体文件大小**：较大的字体文件可能会导致程序的加载时间变长，尽量选择适合的字体和样式。\n",
    "- **字符支持**：并非所有的字体都支持全部字符，尤其是一些特殊字符或某些语言，因此在使用特定字体时，我们需要确认该字体支持所需字符集。"
   ]
  },
  {
   "cell_type": "markdown",
   "id": "7f0994c2",
   "metadata": {},
   "source": [
    "#### 5. 绘制文字"
   ]
  },
  {
   "cell_type": "markdown",
   "id": "7658a4fc",
   "metadata": {},
   "source": [
    "在这一小节中，我们将学习如何在 Py5 环境中绘制文字。Py5 提供了丰富的工具和方法，使得在绘图过程中可以灵活地操作文本的显示，包括设置文本属性、进行变换（如放大、缩小、旋转）、以及添加特效等。\n",
    "\n",
    "在 Py5 中，绘制文本的基础方法为 text()。通过这一方法，我们可以在指定位置绘制文本。基本用法如下：\n",
    "\n",
    "```python\n",
    "text(string, x, y)\n",
    "```\n",
    "\n",
    "其中，`string`是要输出的文字，`x`和`y`是文本的坐标位置（左下角）。\n",
    "\n",
    "在这个示例中，`text_size()`函数用于设置文本的大小，而`fill()`函数用于设置文字的颜色。文本在坐标(50, 100)的位置绘制。"
   ]
  },
  {
   "cell_type": "code",
   "execution_count": null,
   "id": "6dba987b",
   "metadata": {},
   "outputs": [],
   "source": [
    "# 在 Jupyter 代码单元中强制重启内核\n",
    "import IPython\n",
    "IPython.get_ipython().run_line_magic('reset', '-f')   \n",
    "\n",
    "import py5\n",
    "\n",
    "def setup():\n",
    "    py5.size(200, 200)  # 设置窗口大小\n",
    "    py5.background(255)  # 设置背景颜色\n",
    "\n",
    "def draw():\n",
    "    py5.fill(0)  # 设置文本颜色为黑色\n",
    "    py5.text(\"Hello, World!\", 100, 100)  # 在指定位置绘制文本\n",
    "\n",
    "py5.run_sketch()  # 运行 p5.js 程序"
   ]
  },
  {
   "cell_type": "markdown",
   "id": "7324546c",
   "metadata": {},
   "source": [
    "Py5提供了多种方法来设置文本的样式和属性，包括字体、颜色和透明度等。\n",
    "\n",
    "- **设置字体**：使用之前所学的`create_font()`来加载和设置字体。\n",
    "- **设置颜色**：使用`fill()`函数指定文字颜色，例如：`py5.fill(255, 0, 0)`设置文本颜色为红色。\n",
    "- **设置透明度**：可以在`fill(r, g, b, a)`中加入透明度参数`a`，来调节字符的透明度。"
   ]
  },
  {
   "cell_type": "code",
   "execution_count": null,
   "id": "c4ff483b",
   "metadata": {},
   "outputs": [],
   "source": [
    "# 在 Jupyter 代码单元中强制重启内核\n",
    "import IPython\n",
    "IPython.get_ipython().run_line_magic('reset', '-f')   \n",
    "\n",
    "import py5\n",
    "\n",
    "def setup():\n",
    "    py5.size(400, 400)\n",
    "    font = py5.create_font(\"Noto Sans Thin\", 32)\n",
    "    py5.text_font(font)\n",
    "    py5.background(255)\n",
    "\n",
    "def draw():\n",
    "    py5.fill(0, 0, 255)  # 设置文本颜色为蓝色\n",
    "    py5.text_size(48)\n",
    "    py5.text(\"蓝色文字\", 50, 100)\n",
    "    \n",
    "    py5.fill(255, 0, 0)  # 红色\n",
    "    py5.text_size(36)\n",
    "    py5.text(\"红色文字\", 50, 200)\n",
    "\n",
    "py5.run_sketch()"
   ]
  },
  {
   "cell_type": "markdown",
   "id": "272a7387",
   "metadata": {},
   "source": [
    "在Py5中，可以通过`scale()`和`rotate()`函数来实现字符的缩放和旋转。这两个函数在调用`text()`函数之前使用，应用于后续文本的绘制。\n",
    "需要注意的是，进行变换之前，通常需要使用`push()`和`pop()`方法来保存和恢复变换状态。\n",
    "\n",
    "- **放大和缩小**：使用`scale(sx, sy)`设置沿x和y轴的缩放因子。\n",
    "- **旋转**：使用`rotate(angle)`来旋转文本，`angle`以弧度为单位。"
   ]
  },
  {
   "cell_type": "code",
   "execution_count": null,
   "id": "83fd6aee",
   "metadata": {},
   "outputs": [],
   "source": [
    "# 在 Jupyter 代码单元中强制重启内核\n",
    "import IPython\n",
    "IPython.get_ipython().run_line_magic('reset', '-f')   \n",
    "\n",
    "import py5\n",
    "import math\n",
    "\n",
    "def setup():\n",
    "    py5.size(400, 400)\n",
    "    py5.background(255)\n",
    "    font = py5.create_font(\"Noto Sans Thin\", 32)\n",
    "    py5.text_font(font)\n",
    "\n",
    "def draw():\n",
    "    py5.translate(200, 200)  # 移动绘图原点到中心\n",
    "    py5.fill(0)\n",
    "    py5.text_size(32)\n",
    "    \n",
    "    # 旋转和缩放\n",
    "    py5.rotate(math.radians(45))  # 旋转45度\n",
    "    py5.scale(1.5, 1.5)  # 放大1.5倍\n",
    "    py5.text(\"旋转和缩放的文字\", 0, 0)\n",
    "\n",
    "    # 绘制原始字符位置，观察变化\n",
    "    py5.reset_matrix()  # 重置变换矩阵\n",
    "    py5.fill(255, 0, 0)  # 红色\n",
    "    py5.text_size(32)\n",
    "    py5.text(\"原始文字位置\", 50, 50)\n",
    "\n",
    "py5.run_sketch()"
   ]
  },
  {
   "cell_type": "markdown",
   "id": "3c0faf4b",
   "metadata": {},
   "source": [
    "霓虹灯效果是一种常用的文本特效，可以使文字看起来更具活力和吸引力。我们可以通过叠加多个颜色和阴影层来实现这种效果。在Py5中，可以通过调整文本颜色和同时绘制多个文本副本来创建霓虹灯效果。"
   ]
  },
  {
   "cell_type": "code",
   "execution_count": null,
   "id": "07ab6746",
   "metadata": {},
   "outputs": [],
   "source": [
    "# 在 Jupyter 代码单元中强制重启内核\n",
    "import IPython\n",
    "IPython.get_ipython().run_line_magic('reset', '-f')   \n",
    "\n",
    "import py5\n",
    "\n",
    "def setup():\n",
    "    py5.size(800, 600)  # 设置窗口大小\n",
    "    font = py5.create_font(\"Noto Sans Thin\", 48)\n",
    "    py5.text_font(font)\n",
    "\n",
    "def draw():\n",
    "    py5.background(0)  # 设置背景为黑色\n",
    "\n",
    "    # 创建霓虹灯效果\n",
    "    # 先绘制多个颜色的阴影\n",
    "    py5.fill(0, 204, 255)  # 设置阴影的颜色为青色\n",
    "    py5.text(\"Neon Text\", 105, 300)  # 绘制偏移文本\n",
    "\n",
    "    py5.fill(255, 0, 204)  # 设置阴影的颜色为品红\n",
    "    py5.text(\"Neon Text\", 100, 300)  # 绘制文字符号\n",
    "\n",
    "    # 绘制主要文本\n",
    "    py5.fill(255, 255, 0)  # 设置主要文本颜色为黄色\n",
    "    py5.text(\"Neon Text\", 100, 300)  # 绘制主要文本\n",
    "\n",
    "    # 额外的发光效果（模糊效果）\n",
    "    py5.fill(255, 255, 255, 100)  # 设置一个半透明的白色\n",
    "    py5.text(\"Neon Text\", 100, 300)  # 绘制白色文本以产生发光效果\n",
    "\n",
    "    # 可以添加更多的颜色层来增强霓虹灯效果\n",
    "    py5.fill(204, 255, 0)  # 设置淡黄颜色\n",
    "    py5.text(\"Neon Text\", 95, 300)\n",
    "\n",
    "    py5.fill(0, 255, 204)  # 设置淡青色\n",
    "    py5.text(\"Neon Text\", 95, 300)\n",
    "\n",
    "if __name__ == \"__main__\":\n",
    "    py5.run_sketch()  # 运行 Py5 程序"
   ]
  },
  {
   "cell_type": "markdown",
   "id": "82095547",
   "metadata": {},
   "source": [
    "相对于在 Python 中使用 `input()` 进行文本输入，Processing 中的文本输入就会比较困难。由于 Processing 的设计初衷主要是针对图形和视觉效果的绘制，而不是专注于文本交互，因此在实现文本输入功能时，我们必须处理更复杂的事件和渲染逻辑。在 Processing 中，文本输入通常需要通过鼠标点击和键盘事件来实现，且所有输入的数据都需要手动管理。\n",
    "\n",
    "但是，我们可以通过创建自定义的文本输入框和使用键盘事件的监听机制来解决这个问题。基本设计思路如下：\n",
    "- **创建文本输入框**：在 Processing 中，我们可以绘制一个矩形作为文本输入框，并设置合适的背景颜色和边框，使用户能够直观地识别出这是一个输入区域。\n",
    "- **捕获键盘输入**：利用 `keyPressed()` 函数监听键盘事件，识别用户输入的字符，并将其记录到一个字符串变量中。同时，可以实现字符的删除（如反向键），确保用户能够方便地编辑输入内容。\n",
    "- **光标显示**：在文本输入框中显示一个光标，提示用户当前输入的位置。这可以通过绘制垂直线来实现，光标的位置应随着用户的输入而动态更新。\n",
    "- **文本输出与渲染**：在每一帧绘制 (`draw()` 函数) 中，更新输入框内部的文本显示，通过设置合适的字体、颜色和大小，使用户能够清晰地看到正在输入的内容。\n",
    "- **交互状态管理**：可以设置一个布尔变量来管理用户当前是否在输入状态。如果用户点击输入框，则进入输入状态；如果按下回车或点击其他区域，则退出输入状态。"
   ]
  },
  {
   "cell_type": "markdown",
   "id": "83e5b41e",
   "metadata": {},
   "source": [
    "#### 本章总结"
   ]
  },
  {
   "cell_type": "markdown",
   "id": "9b200658",
   "metadata": {},
   "source": [
    "##### 本章知识点汇总"
   ]
  },
  {
   "cell_type": "markdown",
   "id": "50e64b8d",
   "metadata": {},
   "source": [
    "1. **输入输出字符**：使用 `printf` 风格的格式化输出，使用`input`进行输入。\n",
    "   \n",
    "2. **转义字符**：使用 `\\n` (换行)、`\\t` (制表符)、`\\\\` (反斜杠)等转义字符，允许在字符串中安全插入特殊字符，避免语法错误。\n",
    "   \n",
    "3. **文本编码**：通过 ASCII 和 Unicode 规范定义字符与数字的映射，了解编码方法（如 UTF-8）对处理多语言文本的重要性。\n",
    "   \n",
    "4. **使用字体**：合适的字体（如 Noto 字体）能够提升文本的显示效果，利用 `create_font()` 和 `text_font()` 方法自定义字体属性。\n",
    "   \n",
    "5. **绘制文字**：通过 `text()` 函数结合不同的文本属性设置，如 `text_size()` 和 `fill()`，在 Py5 中灵活绘制文本，实现丰富的视觉效果。 "
   ]
  },
  {
   "cell_type": "markdown",
   "id": "c0a11335",
   "metadata": {},
   "source": [
    "##### 课后练习"
   ]
  },
  {
   "cell_type": "markdown",
   "id": "298c8c8a",
   "metadata": {},
   "source": [
    "1. **输出个人信息**\n",
    "   - 使用 `printf` 函数打印出以下信息，要求用户输入姓名和年龄：\n",
    "     ```\n",
    "     姓名: <用户姓名>\n",
    "     年龄: <用户年龄>\n",
    "     ```\n",
    "\n",
    "2. **打印带格式的文本**\n",
    "   - 编写一个程序，使用 `printf` 输出以下文本，并使用转义字符：\n",
    "     ```\n",
    "     欢迎使用 Processing!\\n请享受你的编程之旅！\\t(记得每天练习)\n",
    "     ```\n",
    "\n",
    "3. **多行输出**\n",
    "   - 使用 `printf` 打印一个多行的文本消息，内容如下：\n",
    "     ```\n",
    "     第1行：你好，世界！\n",
    "     第2行：欢迎来到我的程序！\n",
    "     第3行：祝你有美好的一天！\n",
    "     ```\n",
    "\n",
    "4. **包含特殊符号的输出**\n",
    "   - 编写一个程序，使用 `printf` 输出以下内容，要求包含转义字符：\n",
    "     ```\n",
    "     这是一个路径示例：C:\\\\Users\\\\UserName\\\\Documents\\\\project\n",
    "     ```\n",
    "\n",
    "5. **输出计算结果**\n",
    "   - 请编写一个程序，要求用户输入两个数字，使用 `printf` 输出它们的和、差、积和商（格式为：`和: <sum>，差: <diff>，积: <product>，商: <quotient>`）。\n",
    "\n",
    "6. **输出用户的喜好**\n",
    "   - 编写一个程序，要求用户输入他们的最喜欢的颜色和爱好，然后使用 `printf` 输出：\n",
    "     ```\n",
    "     你的最爱颜色是: <颜色>\n",
    "     你的爱好是: <爱好>\n",
    "     ```\n",
    "\n",
    "7. **用户评分**\n",
    "   - 请编写一个程序，要求用户输入一部电影的评分（1到10分），然后使用 `printf` 输出：\n",
    "     ```\n",
    "     你对这部电影的评分是: <评分>。\n",
    "     评分等级: <“很差”，“一般”，“很好”>（根据评分进行判断）。\n",
    "     ```\n",
    "\n",
    "8. **加载并使用自定义字体**\n",
    "   - 编写一个程序，加载一个自定义字体文件，显示文本“欢迎使用 Py5 编程！”。\n",
    "   - 提示用户输入字体文件名，如果未找到字体文件，则输出警告信息。\n",
    "\n",
    "9. **文字样式设置**\n",
    "   - 创建一个程序，使用 Py5 输出“字体样式示例”，分别应用以下样式：\n",
    "     - 粗体\n",
    "     - 斜体\n",
    "     - 下划线\n",
    "     - 设置字体大小为 20 和 40，并在每种样式下显示不同的颜色（如红色、蓝色、绿色）。\n",
    "\n",
    "10. **文字闪烁效果**\n",
    "    - 编写一个 Py5 程序，让用户输入他们的名字，并在画布上以闪烁的效果显示他们的名字。要求：\n",
    "      - 创建一个输入框，让用户输入姓名。\n",
    "      - 使用 `frameCount` 控制闪烁效果，每隔 30 帧更新文本的可见性。\n",
    "      - 要求在屏幕上输出：“你好，<姓名>！”并以闪烁的方式显示。"
   ]
  },
  {
   "cell_type": "markdown",
   "id": "965e6ae2",
   "metadata": {},
   "source": [
    "##### 练习题提示"
   ]
  },
  {
   "cell_type": "markdown",
   "id": "fc87a4ae",
   "metadata": {},
   "source": [
    "1. **输出个人信息 示例**\n",
    "   ```python\n",
    "   name = input(\"请输入您的姓名: \")\n",
    "   age = input(\"请输入您的年龄: \")\n",
    "   printf(\"姓名: %s\\n年龄: %d\\n\" % (name, int(age)))\n",
    "   ```\n",
    "\n",
    "2. **打印带格式的文本 示例**\n",
    "   ```python\n",
    "   printf(\"欢迎使用 Processing!\\n请享受你的编程之旅！\\t(记得每天练习)\")\n",
    "   ```\n",
    "\n",
    "3. **多行输出 示例**\n",
    "   ```python\n",
    "   printf(\"第1行：你好，世界！\\n第2行：欢迎来到我的程序！\\n第3行：祝你有美好的一天！\")\n",
    "   ```\n",
    "\n",
    "4. **包含特殊符号的输出 示例**\n",
    "   ```python\n",
    "   printf(\"这是一个路径示例：C:\\\\Users\\\\UserName\\\\Documents\\\\project\")\n",
    "   ```\n",
    "\n",
    "5. **输出计算结果 示例**\n",
    "   ```python\n",
    "   num1 = float(input(\"请输入第一个数字: \"))\n",
    "   num2 = float(input(\"请输入第二个数字: \"))\n",
    "   sum_result = num1 + num2\n",
    "   diff_result = num1 - num2\n",
    "   product_result = num1 * num2\n",
    "   quotient_result = num1 / num2 if num2 != 0 else \"不可用\"\n",
    "   printf(\"和: %.2f，差: %.2f，积: %.2f，商: %s\" % (sum_result, diff_result, product_result, quotient_result))\n",
    "   ```\n",
    "\n",
    "6. **输出用户的喜好 示例**\n",
    "   ```python\n",
    "   color = input(\"请输入你最喜欢的颜色: \")\n",
    "   hobby = input(\"请输入你的爱好: \")\n",
    "   printf(\"你的最爱颜色是: %s\\n你的爱好是: %s\" % (color, hobby))\n",
    "   ```\n",
    "\n",
    "7. **用户评分 示例**\n",
    "   ```python\n",
    "   rating = float(input(\"请输入电影的评分 (1-10): \"))\n",
    "   if rating < 4:\n",
    "       level = \"很差\"\n",
    "   elif rating < 7:\n",
    "       level = \"一般\"\n",
    "   else:\n",
    "       level = \"很好\"\n",
    "   printf(\"你对这部电影的评分是: %.1f。\\n评分等级: %s\" % (rating, level))\n",
    "   ```\n",
    "\n",
    "8. **加载并使用自定义字体 示例**\n",
    "   ```python\n",
    "   font_name = input(\"请输入字体文件名: \")\n",
    "   if font_exists(font_name):  # 检查字体文件是否存在\n",
    "       create_font(font_name)  # 加载用户自定义字体\n",
    "       text(\"欢迎使用 Py5 编程！\", 50, 50, font=font_name)\n",
    "   else:\n",
    "       print(\"字体文件未找到，请检查文件名和路径。\")\n",
    "   ```\n",
    "\n",
    "9. **文字样式设置 示例**\n",
    "   ```python\n",
    "   # 设置不同的样式\n",
    "   fill(255, 0, 0)  # 红色\n",
    "   text_style(\"字体样式示例\", bold=True, size=20)  # 粗体、20号字体\n",
    "   fill(0, 0, 255)  # 蓝色\n",
    "   text_style(\"字体样式示例\", italic=True, size=40)  # 斜体、40号字体\n",
    "   fill(0, 128, 0)  # 绿色\n",
    "   text_style(\"字体样式示例\", underline=True)  # 下划线\n",
    "   ```\n",
    "\n",
    "10. **文字闪烁效果 示例**\n",
    "    ```python\n",
    "    name_input = None  # 变量保存用户输入的名字\n",
    "    show_text = True   # 控制文字显示与否\n",
    "\n",
    "    def setup():\n",
    "        create_canvas(400, 200)\n",
    "        global name_input\n",
    "        name_input = create_input()  # 创建姓名输入框\n",
    "        name_input.position(20, 50)\n",
    "\n",
    "    def draw():\n",
    "        background(255)\n",
    "        if frameCount % 30 < 15:  # 每30帧改变一次可见性\n",
    "            fill(0)\n",
    "            text(\"你好，{}！\".format(name_input.value()), 20, 100)  # 在画布上显示文本\n",
    "\n",
    "    ```"
   ]
  }
 ],
 "metadata": {
  "kernelspec": {
   "display_name": "Python 3",
   "language": "python",
   "name": "python3"
  },
  "language_info": {
   "codemirror_mode": {
    "name": "ipython",
    "version": 3
   },
   "file_extension": ".py",
   "mimetype": "text/x-python",
   "name": "python",
   "nbconvert_exporter": "python",
   "pygments_lexer": "ipython3",
   "version": "3.13.3"
  }
 },
 "nbformat": 4,
 "nbformat_minor": 5
}
