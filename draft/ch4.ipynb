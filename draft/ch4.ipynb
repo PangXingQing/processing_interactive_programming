{
 "cells": [
  {
   "cell_type": "markdown",
   "id": "6be458ed",
   "metadata": {},
   "source": [
    "### 第四章 变量"
   ]
  },
  {
   "cell_type": "markdown",
   "id": "ed168749",
   "metadata": {},
   "source": [
    "#### 本章内容"
   ]
  },
  {
   "cell_type": "markdown",
   "id": "cc97d608",
   "metadata": {},
   "source": [
    "1. 变量的类型：数、字、布尔\n",
    "2. 变量的命名方式\n",
    "3. 变量的声明、初始化、使用\n",
    "4. 变量的作用域、系统默认变量\n",
    "5. 变量与内存：数据、内存、变量、指针、引用的关系"
   ]
  },
  {
   "cell_type": "markdown",
   "id": "71931ab8",
   "metadata": {},
   "source": [
    "#### 1. 程序中的数据"
   ]
  },
  {
   "cell_type": "markdown",
   "id": "e91d7959",
   "metadata": {},
   "source": [
    "如果我让你把“常量”和“变量”，“自变量”和“因变量”做个直观比较，你是不是一下子能想到答案？其实，变量最直观、最本质的特征，就是它的“可变”二字。\n",
    "\n",
    "简单来说，变量就是那些会变化、不会永远固定在一个值上的东西。\n",
    "\n",
    "想象下面这个情景：假如我给你一个数组，里面有2，7，12这三个数字，请问这仨数字是变量吗？其实它们本身只是具体的数值，如果我们死规定2、7、12的位置和含义永远不变，它们就只是常量，是一组“数据”，还没升格成变量。只有当我们用一个符号或者名字去“指代”那些将来有可能变化的数时，比如a、b、c，或最常见的x、y，这时，它们才真正具备了变量的身份——就像数学里常说：“令x为……，y为……”其实是在为未知或者可变的对象取个名字。\n",
    "\n",
    "在数学里，我们经常见到函数y = f(x)。这里的x我们叫“自变量”，y是“因变量”，什么意思？x可以随便选一个数，y的值就跟着x的取值改变，所以x像是主动挑选的小调皮，y是被动变化的小跟班。\n",
    "这两者的本质都在于：无论x还是y，它们代表的不是具体某一个数字，而是——在范围内可以变化的“东西”。\n",
    "\n",
    "回到程序设计。有了数学的基础，你或许会觉得编程里的变量和常量应该差不多嘛。没错，程序设计中，变量也是用来“存储信息”，并且它的信息是可以变化、可以更新的。比如我们经常看到这样的话：“mouse_x”、“mouse_y”。你也许一看名字就明白了，这两个变量说的是鼠标此时此刻停在屏幕上的横坐标和纵坐标，只要你动一动鼠标，mouse_x 和 mouse_y 的值就随时变化！每一帧刷新，就可能是新数字。这恰恰是“变量”最迷人的地方——它们是跟着世界、跟着你的操作变来变去的“小代表”。\n",
    "\n",
    "再比如，在交互式程序里，你可能有一个表示分数的变量score，每当玩家得分，这个score就增长。同样，你可能有计时器变量time、速度变量speed、甚至用一个color变量专门存储当前图形的颜色。只要你想得到的“随着程序运行会变化的信息”，几乎全都能用变量来表示。\n",
    "\n",
    "程序设计里，变量的正式定义可以这样说：变量是一个能装东西还会变的小盒子，你可以不断往里面放新东西，它也会因为输入、操作、时间等外部环境变化而改变自己。常量则是只能装固定东西的盒子——一经放入便不可更改。在编程和交互设计的世界里，理解和善用变量，是你能让程序“活”起来的第一步！\n",
    "\n",
    "通俗点讲，就是“你给计算机起个名字，专门存放以后可能变的数”。每次你用变量名取值，就是问计算机：哎，某某现在是多少？你给他赋值，就是告诉计算机：请把某某改成我新给你的数。\n",
    "\n",
    "相比之下，如果你在代码里用类似于`PI = 3.14159`并且永远不打算让PI改动，这就是一个**常量**。常量一般用来表示不会变的、约定俗成的数字。在python里，其实“变量”和“常量”写法差不多，只是你约定不用去改它。\n",
    "\n",
    "- 名词汇总：\n",
    "    - **变量**\n",
    "    **变量就是在计算机内存中占据一定空间、用来存储随程序运行可以改变的数据的“名字”或“标识符”**。  \n",
    "    - **系统变量**\n",
    "    **由于比较常用，系统会提前为你定义好一些变量，比如`mouse_x`，这些变量不需要声明和定义，一般也不能直接修改**"
   ]
  },
  {
   "cell_type": "markdown",
   "id": "4344572e",
   "metadata": {},
   "source": [
    "#### 2. 变量的基本用法"
   ]
  },
  {
   "cell_type": "markdown",
   "id": "3b3e8a2a",
   "metadata": {},
   "source": [
    "上一节我们已经说过，变量类似于一个柜子，你可以在柜子里放各种数据。当你想使用其中数据时，只要说出柜子的标签名称，比如“零食”、“袜子”或者“玩具”，柜子就会为你打开，呈现你要的内容。但是，这里还有一个容易被忽略的问题：柜子的大小要怎么设计才合适？你总不能把一辆自行车往衣柜里塞，也没道理给袜子一个巨大的冰箱空间，对吧！\n",
    "\n",
    "在Python里，“为变量分配内存空间”就像是给柜子设定合适的大小，\n",
    "而“给变量命名”则是给柜子贴上标签。整个过程，我们称之为“变量的声明”。\n",
    "与此同时，决定柜子里到底能装哪种类型的内容（比如装衣服、装玩具、装食物）就是变量的“定义”阶段。\n",
    "声明和定义完成后，这个柜子就准备好了，你就可以随时取放数据了。\n",
    "\n",
    "不过，变量的最大特点是它不是死的，不是一成不变的。你可以今天在“零食”柜子里放薯片，明天放巧克力，而且想换就能换——这就是所谓的“赋值”，也就是修改变量里存储的数据。\n",
    "如果有一天你想看看“零食”柜子里现在放着什么，只需要读一下——这就是“读取变量的值”。赋值和读取，是变量最日常、也是最核心的两种用法。\n",
    "\n",
    "除此之外，变量还有很多其它基本用法。你可以让两个变量相互赋值，比如把“钱包”里的钱数暂时转存到“备用金”柜；你可以让变量的值自增或自减，实现计数器效果，比如游戏得分；还可以将变量嵌入表达式中，参与计算、条件判断、参数传递等。变量名称还可以作为函数的临时参数，用来灵活地存储和传递不同的数据。这些灵活的操作能力，让变量成为程序可以“记住、操作和变更”信息的核心工具。\n",
    "\n",
    "这里还要额外补充一个容易忽略但非常重要的小知识，就是变量的命名方式。你想想自己取宠物名字的时候，肯定不会乱取。首先，这个名字一定要有意义，不会管自家的小狗叫“蟑螂”；其次，有些名字极不常见、别人一听就觉得别扭，也不会考虑；最后，有些太常见的通用词，比如“狗”，虽然全世界的狗都能叫狗，但你家那只你一定不会直接叫它“狗”。在编程里，一样存在着变量命名的规则和建议。这里分两部分：\n",
    "\n",
    "**必须遵守的规则：**\n",
    "- 变量名只能由字母（a-z，A-Z）、数字（0-9）和下划线（_）组成，但不能以数字开头；\n",
    "- 不能使用Python的保留字，比如`if`、`while`、`class`等，这些是Python系统自己用的“通用名字”，你拿去自己用会导致程序无法运行；\n",
    "- 变量名区分大小写，比如`Score`和`score`在Python里不是同一个“柜子”；\n",
    "\n",
    "**建议遵守的规则：**\n",
    "- 变量名要有描述性，见名知意，比如`user_name`一看就知道是用户名称，不要用毫无含义的`a1`、`data2`这类名字；\n",
    "- 习惯上使用全小写和下划线分隔多个单词，这叫作“蛇形命名法”（snake_case），比如`mouse_position`；\n",
    "- 要避免和已有的常用名字冲突，不要用“list”“input”这种Python已经自带的常用函数名来重复起名；\n",
    "\n",
    "**驼峰命名**\n",
    "- 除了snake_case，还有一种常见的书写风格叫“驼峰命名法”（CamelCase），尤其在不同语言之间迁移时常会遇到。驼峰命名法就是首个单词小写，后面每个单词首字母大写，比如`userName`、`mousePosition`。这种风格比较适用于某些框架或团队的命名规范，有时也用在类名等特殊场合。驼峰命名法的好处是清晰地分隔单词，而且少了下划线，名字显得紧凑、干净。不过在标准Python代码里，变量一般首选snake_case，而驼峰法更多用于类名。"
   ]
  },
  {
   "cell_type": "code",
   "execution_count": null,
   "id": "158d0d5f",
   "metadata": {},
   "outputs": [],
   "source": [
    "# 变量的声明与定义\n",
    "a = 5\n",
    "b = 10\n",
    "\n",
    "print(\"a =\", a)\n",
    "print(\"b =\", b) \n",
    "\n",
    "# 变量之间赋值\n",
    "c = a\n",
    "print(\"c =\", c)\n",
    "\n",
    "# 变量参与表达式\n",
    "d = a + b\n",
    "print(\"d =\", d)\n",
    "\n",
    "# 变量自增、自减\n",
    "a = a + 1  # 自增\n",
    "b = b - 2  # 自减\n",
    "print(\"自增后的 a =\", a)\n",
    "print(\"自减后的 b =\", b)\n",
    "\n",
    "# 多重赋值\n",
    "x, y, z = 1, 2, 3\n",
    "print(\"x =\", x, \"y =\", y, \"z =\", z)"
   ]
  },
  {
   "cell_type": "code",
   "execution_count": null,
   "id": "ba7eb499",
   "metadata": {},
   "outputs": [],
   "source": [
    "# 点击鼠标后，圆越来越大\n",
    "import py5\n",
    "\n",
    "circle_x, circle_y = 100, 100\n",
    "circle_r = 50\n",
    "\n",
    "def setup():\n",
    "    py5.size(300, 200)\n",
    "\n",
    "def draw():\n",
    "    py5.background(240)\n",
    "    py5.fill(200, 100, 150) # 圆的填充颜色\n",
    "    py5.ellipse(circle_x, circle_y, circle_r, circle_r)\n",
    "\n",
    "def mouse_pressed():\n",
    "    global circle_r\n",
    "    circle_r = circle_r + 10  # 每次点击鼠标，圆的半径增加10像素\n",
    "\n",
    "py5.run_sketch()"
   ]
  },
  {
   "cell_type": "markdown",
   "id": "6e7e85f1",
   "metadata": {},
   "source": [
    "#### 3. 变量的作用域"
   ]
  },
  {
   "cell_type": "markdown",
   "id": "5082482c",
   "metadata": {},
   "source": [
    "当我们在访问一个变量的时候，是通过它的名字来进行的，也就是说，程序根据你写的名字，去找对应的那个“物品”（变量）。虽然在命名时，我们应当尽量让名字有意义、避免重复——毕竟没人喜欢家里每样东西都叫“东西”！但是实际写程序时，难免会遇到同名的情况，尤其是在不同范围里定义了同样名字的变量。就好像你在家里或者餐馆里都能吃早餐，但早餐实际的内容肯定完全不同。\n",
    "\n",
    "在程序设计时，有时候我们会在程序外面（全局）定义一个变量叫`count`，又在某个函数里面也叫`count`。这里面的两个变量名字虽然相同，但其实是两个截然不同的变量，并不会互相影响。这是因为它们的作用范围不同。函数里面的`count`，只能在那个函数内部被使用，被称为“局部变量”；而外面那个`count`，可以在整个程序里都被访问到，被称为“全局变量”。\n",
    "\n",
    "在Python中，如果你在函数里想访问或修改外面的全局变量，需要用`global`这个关键词来声明，告诉Python：“我这次说的小明是全局那个，而不是我屋子里的小明哦！”这样全局变量才不会被局部变量“屏蔽”掉。\n",
    "\n",
    "所以，变量作用域其实就像房间和物品的安排，要让每个“物品”放在对的位置，这样使用时才不会拿错。只有弄明白了变量的作用范围，才能让你的程序井井有条，交互逻辑也清清楚楚！\n"
   ]
  },
  {
   "cell_type": "code",
   "execution_count": null,
   "id": "70f864ea",
   "metadata": {},
   "outputs": [],
   "source": [
    "# 错误示范：局部变量无法实现数据累计\n",
    "\n",
    "# 这里实现点一下屏幕，数字应该加1，但因为变量总是局部的（每次都重新定义），所以数字根本加不上去！\n",
    "import py5\n",
    "\n",
    "def setup():\n",
    "    py5.size(400, 200)\n",
    "\n",
    "# 每个函数里的`count`仅自己玩，画面数字永远显示0，用户点击完全看不到真正的累计效果。\n",
    "def draw():\n",
    "    py5.background(220)\n",
    "    count = 0  # count只属于draw，刚出现就被清零\n",
    "    py5.text_size(32)\n",
    "    py5.text(str(count), 180, 110)\n",
    "\n",
    "def mouse_pressed():\n",
    "    count = 10  # 这个count和draw里的不是一个\n",
    "    count += 1  # 只加了这次函数的1，下次又变0\n",
    "\n",
    "py5.run_sketch()"
   ]
  },
  {
   "cell_type": "code",
   "execution_count": null,
   "id": "b7009717",
   "metadata": {},
   "outputs": [],
   "source": [
    "# 正确示范：全局变量实现数据共享\n",
    "# 将计数器变量放在全局空间，所有需要的地方都能访问和更新。\n",
    "\n",
    "# 计数器会随着每次点击而增长，数据累计正常显示。这种方式适合计分、全局状态等场景。\n",
    "import py5\n",
    "\n",
    "count = 0  # 现在count属于全局，大家都能看到\n",
    "\n",
    "def setup():\n",
    "    py5.size(400, 200)\n",
    "\n",
    "def draw():\n",
    "    py5.background(220)\n",
    "    py5.text_size(32)\n",
    "    py5.text(str(count), 180, 110)\n",
    "\n",
    "def mouse_pressed():\n",
    "    global count  # 告诉python用外面的count\n",
    "    count += 1  # 每次点击，全局的count+1\n",
    "\n",
    "py5.run_sketch()"
   ]
  },
  {
   "cell_type": "code",
   "execution_count": null,
   "id": "b12b853b",
   "metadata": {},
   "outputs": [],
   "source": [
    "# 错误示范：和Py5的系统变量重名导致混乱\n",
    "# 定义变量叫做`mouse_x`，但Py5已经有`py5.mouse_x`作为当前鼠标横坐标。\n",
    "# 这时候你再用同名变量会盖掉系统内置的功能，程序结果很容易违背本意。\n",
    "\n",
    "# 系统变量`py5.mouse_x`应该自动取鼠标位置，但现在画圆用到的`mouse_x`被你自己赋值成了100，结果圆的位置完全不会跟着鼠标动啦。\n",
    "import py5\n",
    "\n",
    "def setup():\n",
    "    py5.size(400, 200)\n",
    "\n",
    "def draw():\n",
    "    mouse_x = 100  # 自己又搞了个mouse_x，其实这里和py5.mouse_x重名\n",
    "    py5.background(220)\n",
    "    py5.ellipse(mouse_x, py5.mouse_y, 40, 40)  # 位置变诡异，不跟随鼠标\n",
    "\n",
    "py5.run_sketch()"
   ]
  },
  {
   "cell_type": "code",
   "execution_count": null,
   "id": "b6ce780e",
   "metadata": {},
   "outputs": [],
   "source": [
    "# 正确示范：自定义变量避开系统变量名\n",
    "# 给自己的变量换个清楚的名字，既能用上系统变量，又不容易搞混。\n",
    "\n",
    "import py5\n",
    "\n",
    "def setup():\n",
    "    py5.size(400, 200)\n",
    "\n",
    "def draw():\n",
    "    my_circle_x = 100  # 自己的变量\n",
    "    py5.background(220)\n",
    "    py5.ellipse(py5.mouse_x, py5.mouse_y, 40, 40)  # 系统变量，跟随鼠标\n",
    "    py5.ellipse(my_circle_x, 100, 40, 40)  # 画第二个固定位置的小球\n",
    "\n",
    "py5.run_sketch()"
   ]
  },
  {
   "cell_type": "markdown",
   "id": "dcf31294",
   "metadata": {},
   "source": [
    "#### 4. 变量可以存储的数据类型"
   ]
  },
  {
   "cell_type": "markdown",
   "id": "78ebffb9",
   "metadata": {},
   "source": [
    "##### 4.1 强类型与弱类型"
   ]
  },
  {
   "cell_type": "markdown",
   "id": "9dd4deac",
   "metadata": {},
   "source": [
    "除了我们前面已经用过的数字`count=10`，其实在Python里，变量能表示的数据类型还有很多。最常见的比如：\n",
    "\n",
    "- 字符串（专门用来装“字”，像“hello”这种文本）\n",
    "- 列表（装一堆数据，像个小集合，比如好几本书排成一排）\n",
    "- 字典（有点像电话簿，通过“名字”找到“号码”）\n",
    "- 布尔值（判断题里的对或者错，只有True和False）\n",
    "- 还有更复杂的，比如装图片、声音，甚至数据表！\n",
    "\n",
    "你会发现，Python里声明和定义一个变量都超级轻松，只要一句话，把你要的内容赋值给变量就行了，比如：  \n",
    "\n",
    "`name = \"小明\"`或者`is_login = True`  \n",
    "\n",
    "我们再回到储物柜的类比，你家除了储物柜，是不是还有很多“专柜”，比如：\n",
    "- 冰箱：专门用来放食物的\n",
    "- 鞋柜：放鞋子用的\n",
    "- 书柜：满满当当放书\n",
    "- 玩具箱：各种奇怪玩具\n",
    "\n",
    "这些柜子里放的东西都有“规定内容”：你要往冰箱里塞脏袜子，你妈绝对会暴跳如雷，不把你骂个半小时你都下不来楼梯；你把鸡蛋塞进书柜，下次你可能就能收获一地的蛋壳碎片和怒气值100的妈妈！\n",
    "\n",
    "在程序设计里，变量类型就像这些柜子的“专属场地”。“数字型变量”，只能装数字，“字符串变量”就像留言本，只能写字。如果你胡乱把数据扔进去（比如对一个数字变量赋了文本，或者试图把一串文字当作数字来加），大部分编程语言会生气地告诉你：“你搞错啦！”\n",
    "\n",
    "但是！Python很“佛系”，你直接放什么，它会自动根据内容给你贴合适的标签，比如你第一句写`x = 5`，Python认为x是个数字；你接着写`x = \"你好\"`，Python立马变成字符串标签，不吭声地帮你换好了柜子。这个叫做“弱类型”——变量类型会随你赋的值自动变化，你不需要自己声明。\n",
    "\n",
    "而有些别的编程语言（比如C、Java这些“强类型”语言），你得提前说明：“这个变量以后只装数字！”否则后面换内容，比如把字符串放给数字变量，程序就直接报错：你想干啥？！要规范，要专业！\n",
    "\n",
    "- 名词汇总\n",
    "    - 弱类型语言：变量类型跟着值变，切换自如\n",
    "    - 强类型语言：一旦声明了类型，后面只能严格照规矩来\n"
   ]
  },
  {
   "cell_type": "code",
   "execution_count": null,
   "id": "01340828",
   "metadata": {},
   "outputs": [],
   "source": [
    "# 一键切换变量类型，看看错误长啥样\n",
    "# 这里用一个变量`radius`，先是整数，按空格变成字符串，再按空格恢复整数。\n",
    "# 目的是演示类型错误，如何在运行时捕获异常。\n",
    "\n",
    "import py5\n",
    "\n",
    "def setup():\n",
    "    py5.size(400, 400)\n",
    "    my_font = py5.create_font(\"Noto Sans Thin\", 12)\n",
    "    py5.text_font(my_font)\n",
    "    py5.text_align(py5.LEFT, py5.TOP)\n",
    "    global radius, hint\n",
    "    radius = 50          # 先放一个 int\n",
    "    hint = \"按空格 SPACE 把 radius 变成字符串，再次按空格恢复\"\n",
    "\n",
    "def draw():\n",
    "    py5.background(240)\n",
    "    py5.fill(0)\n",
    "    \n",
    "    # 在屏幕上展示当前值和类型\n",
    "    py5.text(f\"radius = {radius}  ({type(radius).__name__})\", 20, 60)\n",
    "    py5.text(hint, 20, 120)\n",
    "    \n",
    "    # 试图用 radius 画圆，如果类型错就会抛异常\n",
    "    try:\n",
    "        py5.ellipse(200, 170, radius, radius)\n",
    "    except TypeError as err:\n",
    "        py5.text(f\"TypeError: {err}\", 20, 170)\n",
    "\n",
    "def key_pressed():\n",
    "    global radius, hint\n",
    "    if py5.key == ' ':\n",
    "        if isinstance(radius, int):\n",
    "            radius = \"fifty\"      # 变成 str，下一帧 ellipse() 就会炸\n",
    "            hint = \"radius 变成 str —— 再按空格切回 int\"\n",
    "        else:\n",
    "            radius = 50\n",
    "            hint = \"radius 恢复 int —— 再按空格重复试验\"\n",
    "\n",
    "py5.run_sketch()"
   ]
  },
  {
   "cell_type": "code",
   "execution_count": null,
   "id": "d8f9d247",
   "metadata": {},
   "outputs": [],
   "source": [
    "# 把数字和字符串硬凑一起——正确写法 & 错误写法\n",
    "\n",
    "import py5\n",
    "\n",
    "def setup():\n",
    "    py5.size(400, 400)\n",
    "    my_font = py5.create_font(\"Noto Sans Thin\", 12)\n",
    "    py5.text_font(my_font)\n",
    "    py5.text_align(py5.LEFT, py5.TOP)\n",
    "    \n",
    "    py5.no_loop()  # 只跑一次就够了，演示完即停\n",
    "    \n",
    "    price = 8          # int\n",
    "    unit  = \"元\"       # str\n",
    "    \n",
    "    # ❌ 错误示范：数字 + 字符串  → TypeError\n",
    "    try:\n",
    "        combo = price + unit\n",
    "    except TypeError as err:\n",
    "        print(\"抛出了 TypeError:\", err)   # 终端里能看到\n",
    "        combo = str(price) + unit         # 立刻改成正确姿势\n",
    "    \n",
    "    # ✅ 正确拼接：把 int 显式转成 str\n",
    "    msg = str(price) + unit\n",
    "    \n",
    "    # 用文本方式在窗口里展示结果\n",
    "    py5.background(250)\n",
    "    py5.fill(30)\n",
    "    py5.text(msg, 20, 90)   # 屏幕会显示 “8元”\n",
    "\n",
    "py5.run_sketch()"
   ]
  },
  {
   "cell_type": "code",
   "execution_count": null,
   "id": "57bf1254",
   "metadata": {},
   "outputs": [],
   "source": [
    "# 声明一个强类型变量\n",
    "num: float = 3.14  # 这里声明了一个浮点数类型的变量\n",
    "print(\"num =\", num)  # 输出：num = 3.14\n",
    "\n",
    "# 声明一个强类型为整型的变量，并将num赋值给它\n",
    "num_int: int = int(num)  # 强制转换为整数类型\n",
    "print(\"num_int =\", num_int)  # 输出：num_int = 3\n",
    "# 输出3的原因是因为int()函数会将浮点数截断为整数部分，不进行四舍五入。\n",
    "\n",
    "# 打印num的类型\n",
    "print(\"num的类型是：\", type(num))  # 输出：num的类型是： <class 'str'>\n",
    "\n",
    "num = 'hello world'  # 现在num变成了字符串类型\n",
    "print(\"num =\", num)  # 输出：num = hello world\n",
    "\n",
    "# 打印num的类型\n",
    "print(\"num的类型是：\", type(num))  # 输出：num的类型是： <class 'str'>\n",
    "\n"
   ]
  },
  {
   "cell_type": "markdown",
   "id": "8fcf61df",
   "metadata": {},
   "source": [
    "##### 4.2 变量数据类型"
   ]
  },
  {
   "cell_type": "markdown",
   "id": "0c712dbe",
   "metadata": {},
   "source": [
    "在第一部分讲述Processing概况时，我们已经见到了两种数据类型：数字和文字，实际在计算机中数据类型要远比这两个内容分的更加细致。\n",
    "常见的八种数据类型：整数、小数、字符串、布尔型、列表、字典、集合、元组\n",
    "\n",
    "下面这 8 个常见数据类型，你几乎一写 Py5 就会遇到。  \n",
    "我把它们先用“生活类比”讲清，再给出能直接跑的 Py5 片段（都带 `import py5` 前缀，复制进同一个 `.py` 文件随时测试）。  \n",
    "你可以把这些片段拼成自己的草图，或单独运行感受差异——代码不长、逻辑简单，但足够互动，很适合课堂演示。\n",
    "\n",
    "- int\n",
    "    - 整型变量，只能保存整数类型的数智，比如：“整张车票的座位号\n",
    "    - py5应用：尺寸、像素坐标、RGB 颜色通道都要用 `int`。  "
   ]
  },
  {
   "cell_type": "code",
   "execution_count": null,
   "id": "41f6e414",
   "metadata": {},
   "outputs": [],
   "source": [
    "import py5\n",
    "\n",
    "def setup():\n",
    "    py5.size(400, 200)          # 400 和 200 都是 int\n",
    "    py5.stroke_weight(10)       # 线宽也是 int\n",
    "\n",
    "def draw():\n",
    "    py5.background(255)\n",
    "    py5.stroke(30, 144, 255)    # 三个 int：R、G、B\n",
    "    py5.line(0, 0, 400, 200)    # 4 个 int：起止坐标\n",
    "\n",
    "py5.run_sketch()"
   ]
  },
  {
   "cell_type": "markdown",
   "id": "ac7fc811",
   "metadata": {},
   "source": [
    "- float\n",
    "    - 浮点数类型，可以保存整数或者小数，比如：“地铁卡里 20.5 元 或者 20.0 元余额”\n",
    "    - py5 应用：角度、速度、透明度都用 `float`。  \n"
   ]
  },
  {
   "cell_type": "code",
   "execution_count": null,
   "id": "11e9a007",
   "metadata": {},
   "outputs": [],
   "source": [
    "import py5, math\n",
    "\n",
    "angle: float = 0.0              # 明确声明 float\n",
    "\n",
    "def setup():\n",
    "    py5.size(300, 300)\n",
    "\n",
    "def draw():\n",
    "    global angle\n",
    "    py5.background(240)\n",
    "    py5.translate(150, 150)\n",
    "    py5.rotate(angle)           # rotate 接收 float\n",
    "    py5.rect_mode(py5.CENTER)\n",
    "    py5.rect(0, 0, 120, 40)\n",
    "    angle += 0.03               # 每帧微调——细腻而平滑\n",
    "    \n",
    "py5.run_sketch()"
   ]
  },
  {
   "cell_type": "markdown",
   "id": "ea36ef65",
   "metadata": {},
   "source": [
    "- bool\n",
    "    - 布尔型变量，只有 `True` 和 `False` 两个状态，比如：“开 / 关 灯的开关”\n",
    "    - py5 应用：控制流程、开关效果。  \n"
   ]
  },
  {
   "cell_type": "code",
   "execution_count": null,
   "id": "d3c32a93",
   "metadata": {},
   "outputs": [],
   "source": [
    "import py5\n",
    "show_grid: bool = False\n",
    "\n",
    "def setup():\n",
    "    py5.size(200, 200)\n",
    "\n",
    "def draw():\n",
    "    py5.background(255)\n",
    "    if show_grid:               # 根据 bool 决定是否画网格\n",
    "        for x in range(0, 200, 20):\n",
    "            py5.line(x, 0, x, 200)\n",
    "        for y in range(0, 200, 20):\n",
    "            py5.line(0, y, 200, y)\n",
    "\n",
    "def mouse_pressed():\n",
    "    global show_grid\n",
    "    show_grid = not show_grid   # 点击鼠标 bool\n",
    "\n",
    "py5.run_sketch()"
   ]
  },
  {
   "cell_type": "markdown",
   "id": "81ef808c",
   "metadata": {},
   "source": [
    "- str\n",
    "    - 字符串变量，用来保存各种文字，比如：“你的名字”\n",
    "    - py5 应用：界面文字、调试信息、文件名。  \n"
   ]
  },
  {
   "cell_type": "code",
   "execution_count": null,
   "id": "4ff42ed0",
   "metadata": {},
   "outputs": [],
   "source": [
    "import py5, datetime\n",
    "\n",
    "def setup():\n",
    "    py5.size(350, 100)\n",
    "    py5.text_align(py5.CENTER, py5.CENTER)\n",
    "    py5.text_size(24)\n",
    "\n",
    "def draw():\n",
    "    py5.background(30)\n",
    "    now: str = datetime.datetime.now().strftime(\"%H:%M:%S\")\n",
    "    py5.fill(255)\n",
    "    py5.text(now, 175, 50)      # 把 str 渲染到画布中央\n",
    "    \n",
    "py5.run_sketch()"
   ]
  },
  {
   "cell_type": "markdown",
   "id": "d2ca0d2c",
   "metadata": {},
   "source": [
    "- list\n",
    "    - 列表变量，可以保存一组数据，比如：“待办清单，可增可删”\n",
    "    - py5 应用：储存粒子、按钮、路径节点。\n"
   ]
  },
  {
   "cell_type": "code",
   "execution_count": null,
   "id": "db1e9a70",
   "metadata": {},
   "outputs": [],
   "source": [
    "import py5, random\n",
    "\n",
    "balls = []    # 用 list 存小球中心坐标\n",
    "\n",
    "def setup():\n",
    "    py5.size(400, 300)\n",
    "\n",
    "def draw():\n",
    "    py5.background(220)\n",
    "    for x, y in balls:\n",
    "        py5.circle(x, y, 30)\n",
    "        \n",
    "def mouse_pressed():\n",
    "    # 每点一下鼠标就把一个新球 (x, y) 加入 list\n",
    "    balls.append((py5.mouse_x, py5.mouse_y))\n",
    "\n",
    "py5.run_sketch()"
   ]
  },
  {
   "cell_type": "markdown",
   "id": "f30e44b8",
   "metadata": {},
   "source": [
    "- tuple\n",
    "    - 元组变量，可以保存一组有序数据，但是确定后就不能再改，与list的区别就是“有序”，“不可改”\n",
    "    - py5 应用：固定颜色 `(255, 200, 0)`、静态坐标 `(0,0)` 等。  \n"
   ]
  },
  {
   "cell_type": "code",
   "execution_count": null,
   "id": "7c982c6c",
   "metadata": {},
   "outputs": [],
   "source": [
    "import py5\n",
    "\n",
    "ORANGE: tuple[int, int, int] = (255, 165, 0)  # 元组作颜色常量\n",
    "\n",
    "def setup():\n",
    "    py5.size(240, 240)\n",
    "\n",
    "def draw():\n",
    "    \n",
    "    # 错误写法\n",
    "    # py5.background(ORANGE)      # 直接用\n",
    "    \n",
    "    # 正确写法\n",
    "    py5.background(ORANGE[0], ORANGE[1], ORANGE[2])  # 分解元组，有序\n",
    "    \n",
    "py5.run_sketch()"
   ]
  },
  {
   "cell_type": "markdown",
   "id": "ec638902",
   "metadata": {},
   "source": [
    "- set\n",
    "    - 集合变量，可以保存一组无序可变的数据，但是这些数据的值必须在集合中唯一，比如：“签到簿（身份证唯一）”\n",
    "    - py5 应用：实时去重，如“哪些键正被按住”。  \n"
   ]
  },
  {
   "cell_type": "code",
   "execution_count": null,
   "id": "f6d7fc7a",
   "metadata": {},
   "outputs": [],
   "source": [
    "import py5\n",
    "\n",
    "typed_keys: set[str] = set()      # 新建一个空集合，准备存字母\n",
    "\n",
    "def setup():\n",
    "    py5.size(420, 120)\n",
    "    py5.text_size(28)\n",
    "    py5.text_align(py5.LEFT, py5.TOP)\n",
    "\n",
    "def draw():\n",
    "    py5.background(245)\n",
    "    # 把集合里的字母排序后连成字符串，并展示出来\n",
    "    collected: str = \", \".join(sorted(typed_keys))\n",
    "    py5.fill(30)\n",
    "    py5.text(\"Unique keys:\", 10, 10)\n",
    "    py5.fill(0, 102, 204)\n",
    "    py5.text(collected or \"— NULL —\", 10, 50)\n",
    "\n",
    "def key_pressed():\n",
    "    # 只关心字母键；其他键（如 Shift、方向键）忽略\n",
    "    if py5.key.isalpha():\n",
    "        typed_keys.add(py5.key.lower())   # add() 自动去重\n",
    "\n",
    "py5.run_sketch()"
   ]
  },
  {
   "cell_type": "markdown",
   "id": "dbc3a11e",
   "metadata": {},
   "source": [
    "- dict\n",
    "    - 字典变量，可以保存一组“键值对”（Key-Value），“键”不可以重复，“值”可以，比如：个人信息（身份证-身高）\n",
    "    - py5 应用：对象属性表、配置项、缓存，比如“粒子 id → 颜色”。  \n"
   ]
  },
  {
   "cell_type": "code",
   "execution_count": null,
   "id": "d4b96a8b",
   "metadata": {},
   "outputs": [],
   "source": [
    "import py5\n",
    "\n",
    "key_counts: dict[str, int] = {}     # 空字典：键=字母，值=次数\n",
    "\n",
    "def setup():\n",
    "    py5.size(480, 400)\n",
    "    py5.text_size(12)\n",
    "    py5.text_align(py5.LEFT, py5.TOP)\n",
    "\n",
    "def draw():\n",
    "    py5.background(250)\n",
    "    py5.fill(0)\n",
    "    py5.text(\"Key press counts:\", 10, 10)\n",
    "\n",
    "    y = 30\n",
    "    # 按字母排序后依次显示：a: 3, b: 1, ...\n",
    "    for letter in sorted(key_counts.keys()):\n",
    "        count: int = key_counts[letter]\n",
    "        py5.text(f\"{letter}: {count}\", 20, y)\n",
    "        y += 15\n",
    "\n",
    "def key_pressed():\n",
    "    # 只关心字母键，忽略 Shift、箭头等\n",
    "    if py5.key.isalpha():\n",
    "        letter: str = py5.key.lower()             # 统一用小写\n",
    "        # get() 取原值，没有就默认为 0；然后 +1 回写\n",
    "        key_counts[letter] = key_counts.get(letter, 0) + 1\n",
    "\n",
    "py5.run_sketch()"
   ]
  },
  {
   "cell_type": "markdown",
   "id": "53533031",
   "metadata": {},
   "source": [
    "#### 5. 变量之间的运算"
   ]
  },
  {
   "cell_type": "markdown",
   "id": "b38ad695",
   "metadata": {},
   "source": [
    "##### 5.1 变量之间的运算"
   ]
  },
  {
   "cell_type": "markdown",
   "id": "f01a6651",
   "metadata": {},
   "source": [
    "在Python编程中，变量之间的各种“运算”几乎支撑了所有的代码逻辑，简单而言：所有的程序都是靠一堆变量和运算符，让不同类型的数据“对话”并发生变化。\n",
    "\n",
    "程序 = 数据 + 算法（运算，或者处理数据的方法）\n",
    "\n",
    "按照数据类型，这三类运算比较常见：数字之间的数学运算（加减乘除这些常规操作）、布尔类型的逻辑运算（判断对错、组合多重条件）、字符串之间的文本运算（比如拼接、查找、比较）。因为这些类型本身的表现方式和用途不一样，用的运算符也各有特点。例如，数字之间的**等号**是**是否相等**，字符串拼接反而靠加号；逻辑判断还涉及and、or、not这些关键字。实际开发过程中，判断条件、响应用户操作、数据校验甚至界面交互，处处都隐藏着各种类型的变量运算。如果类型混用、运算符用错，程序很可能直接崩溃或者结果完全跑偏。所以，早早把这套基础知识吃透，写代码的时候省心不少，以后遇到新需求也能灵活应对。\n",
    "\n",
    "接下来，我们就分门别类，逐一拆解数字、布尔和字符串这三种变量的典型运算方式，并补充介绍其他常见的数据类型的运算技巧，让你在交互设计编程中真正做到“手到擒来”。\n"
   ]
  },
  {
   "cell_type": "markdown",
   "id": "59ae9082",
   "metadata": {},
   "source": [
    "##### 5.2 数值运算符"
   ]
  },
  {
   "cell_type": "markdown",
   "id": "c64bb7ae",
   "metadata": {},
   "source": [
    "\n",
    "数值运算符专门用来处理数字之间的运算。它们是编程中最基本的工具，无论是计算总价、确定运动轨迹，还是动态生成视觉效果，几乎都离不开这几种符号。掌握这类运算，才能让你的代码充满“算力”和活力！\n",
    "\n",
    "**常见运算符一览表**\n",
    "\n",
    "| 运算符 | 功能               | 用法示例 | 结果    |\n",
    "|--------|--------------------|----------|---------|\n",
    "| +      | 加法               | 3 + 2    | 5       |\n",
    "| -      | 减法               | 7 - 2    | 5       |\n",
    "| *      | 乘法               | 3 * 2    | 6       |\n",
    "| /      | 除法（结果有小数） | 7 / 2    | 3.5     |\n",
    "| //     | 整除（取整数部分） | 7 // 2   | 3       |\n",
    "| %      | 取余（求余数）     | 7 % 2    | 1       |\n",
    "| **     | 幂（乘方）         | 2 ** 3   | 8       |\n",
    "| +=、-= | 复合赋值（加/减）  | x += 1   | x = x+1 |\n"
   ]
  },
  {
   "cell_type": "code",
   "execution_count": null,
   "id": "b21addb9",
   "metadata": {},
   "outputs": [],
   "source": [
    "import py5\n",
    "\n",
    "# 初始状态\n",
    "x, y      = 50, 50\n",
    "vx, vy    = 3, 0           # 速度\n",
    "gravity   = 0.3            # 重力加速度\n",
    "damping   = 0.8            # 反弹系数\n",
    "\n",
    "def setup():\n",
    "    py5.size(400, 300)\n",
    "\n",
    "def draw():\n",
    "    global x, y, vx, vy\n",
    "    py5.background(240)\n",
    "\n",
    "    # ① 速度更新（加减乘除）\n",
    "    vy += gravity              # vy = vy + gravity\n",
    "    x  += vx\n",
    "    y  += vy\n",
    "\n",
    "    # ② 碰到底边就反弹（取余和复合赋值）\n",
    "    if y >= py5.height - 20:\n",
    "        y  = py5.height - 20\n",
    "        vy = -vy * damping     # 乘、负号、一口气写\n",
    "\n",
    "    # ③ 漂亮一点：水平循环（取余 %）\n",
    "    x = x % py5.width\n",
    "\n",
    "    py5.circle(x, y, 40)\n",
    "\n",
    "py5.run_sketch()"
   ]
  },
  {
   "cell_type": "markdown",
   "id": "dbdebbf7",
   "metadata": {},
   "source": [
    "##### 5.3 布尔运算符\n"
   ]
  },
  {
   "cell_type": "markdown",
   "id": "cba86890",
   "metadata": {},
   "source": [
    "布尔运算符用于处理“对”与“错”的判断，是逻辑流程的核心。每当你需要给程序设定条件（比如这个按钮被按没？某个玩家的分数是否大于60？），都要用到布尔运算。逻辑组合、反转、比较大小，这一套就是你的“编程思维工具箱”。\n",
    "\n",
    "**常见布尔运算符（逻辑与比较）**\n",
    "\n",
    "| 运算符 | 含义           | 用法示例        | 结果     |\n",
    "|--------|----------------|-----------------|----------|\n",
    "| ==     | 等于           | x == 3          | True/False |\n",
    "| !=     | 不等于         | y != 0          | True/False |\n",
    "| >      | 大于           | 分数 > 60       | True/False |\n",
    "| >=     | 大于等于       | grade >= 90     | True/False |\n",
    "| <      | 小于           | n < 10          | True/False |\n",
    "| <=     | 小于等于       | time <= 30      | True/False |\n",
    "| and    | 且（与）       | a > 0 and b < 5 | True/False |\n",
    "| or     | 或             | x == 1 or x == 2| True/False |\n",
    "| not    | 非（取反）     | not finished    | True/False |\n"
   ]
  },
  {
   "cell_type": "code",
   "execution_count": null,
   "id": "f3c6b244",
   "metadata": {},
   "outputs": [],
   "source": [
    "import py5\n",
    "\n",
    "# 按钮区域坐标\n",
    "btn_x = 150\n",
    "btn_y = 80\n",
    "btn_w = 100\n",
    "btn_h = 60\n",
    "\n",
    "def setup():\n",
    "    py5.size(400, 220)\n",
    "    py5.text_font(py5.create_font(\"Noto Sans Thin\", 16))\n",
    "\n",
    "def draw():\n",
    "    py5.background(230)\n",
    "    mx, my = py5.mouse_x, py5.mouse_y\n",
    "    \n",
    "    # 用布尔表达式判断鼠标是否在按钮内\n",
    "    inside = (btn_x <= mx <= btn_x + btn_w) and (btn_y <= my <= btn_y + btn_h)\n",
    "    \n",
    "    # 根据inside的真假改变按钮颜色\n",
    "    if inside:\n",
    "        py5.fill(70, 170, 240)\n",
    "    else:\n",
    "        py5.fill(170)\n",
    "    py5.rect(btn_x, btn_y, btn_w, btn_h, 10)\n",
    "    \n",
    "    # 显示布尔表达式结果\n",
    "    py5.fill(0)\n",
    "    py5.text(f'鼠标在按钮内？ {inside}', 140, 170)\n",
    "    py5.text('把鼠标移动到按钮内试试', 100, 30)\n",
    "    \n",
    "py5.run_sketch()"
   ]
  },
  {
   "cell_type": "markdown",
   "id": "b9ad6aca",
   "metadata": {},
   "source": [
    "##### 5.4 字符串运算符\n"
   ]
  },
  {
   "cell_type": "markdown",
   "id": "70bf78b7",
   "metadata": {},
   "source": [
    "字符串运算主要用于文本的处理——无论是聊天、表单输入、动态生成欢迎词，都需要字符串运算符。别小看这些符号，它们能让程序灵活处理各种自然语言、名字、拼接提示信息，甚至做简单的文本搜索。\n",
    "\n",
    "**常见字符串运算符**\n",
    "\n",
    "| 运算符 | 功能           | 用法示例             | 结果           |\n",
    "|--------|----------------|----------------------|----------------|\n",
    "| +      | 拼接文本       | \"hi\" + \"Python\"      | \"hiPython\"     |\n",
    "| *      | 重复文本       | \"a\"*3                | \"aaa\"          |\n",
    "| ==     | 文本相等判断   | a == \"abc\"           | True/False     |\n",
    "| !=     | 文本不等判断   | b != \"xyz\"           | True/False     |\n",
    "| in     | 是否包含子串   | 'p' in \"apple\"       | True/False     |\n",
    "| not in | 是否不包含子串 | 'x' not in \"apple\"   | True/False     |\n"
   ]
  },
  {
   "cell_type": "code",
   "execution_count": null,
   "id": "a93d055e",
   "metadata": {},
   "outputs": [],
   "source": [
    "import py5, time\n",
    "\n",
    "start_time = time.time()\n",
    "\n",
    "def setup():\n",
    "    py5.size(400, 200)\n",
    "    py5.text_align(py5.CENTER, py5.CENTER)\n",
    "    py5.text_size(24)\n",
    "\n",
    "def draw():\n",
    "    py5.background(0)\n",
    "    elapsed = int(time.time() - start_time)\n",
    "\n",
    "    # 拼接与重复\n",
    "    dots = '.' * (elapsed % 4)          # 小动画：0~3 个点循环\n",
    "    msg  = \"Running\" + dots\n",
    "\n",
    "    # 比较：超过 10 秒就换提示\n",
    "    if elapsed >= 10:\n",
    "        msg = \"Time Up!\"\n",
    "\n",
    "    # in/not in：检查字符\n",
    "    status = \"Has dot\" if '.' in msg else \"No dot\"\n",
    "\n",
    "    py5.text(msg, 200, 80)\n",
    "    py5.text(status, 200, 140)\n",
    "\n",
    "py5.run_sketch()"
   ]
  },
  {
   "cell_type": "markdown",
   "id": "d2a29585",
   "metadata": {},
   "source": [
    "#### 本章总结"
   ]
  },
  {
   "cell_type": "markdown",
   "id": "9dc0d308",
   "metadata": {},
   "source": [
    "##### 本章知识点汇总"
   ]
  },
  {
   "cell_type": "markdown",
   "id": "fbf6cc6a",
   "metadata": {},
   "source": [
    "1. 变量（variable）：程序里一个“可变的小盒子”，存放随时会被改写的数据。  \n",
    "2. 常量（constant）：盒子里放的是“永远不想改”的值，Python 里通常用全大写表示（如 PI）。  \n",
    "3. 变量声明 / 定义：向解释器“要一个盒子并贴上名字”，同时决定它初始装什么。  \n",
    "4. 赋值（assignment）：把新东西塞进盒子；写成 = 或 += 之类的复合赋值。  \n",
    "5. 变量读取：用变量名“打开盒子”取出里面当前值。  \n",
    "6. 变量命名规则：只能用字母、数字、下划线，且不能数字开头；别拿 if、class 这类关键字当变量名。  \n",
    "7. snake_case：Python 推荐的变量命名风格，小写＋下划线分词，如 mouse_x。  \n",
    "8. CamelCase（驼峰）：另一种多语言常见命名方式，首单词小写，其余单词首字母大写，如 mouseX。  \n",
    "9. 系统变量：Py5/Processing 已经帮你准备好的变量（mouse_x、width 等），直接用但别重名覆盖。  \n",
    "10. 作用域（scope）：变量“在哪些代码块里能被看见”；分全局变量和局部变量。  \n",
    "11. global 关键字：在函数里想修改外层同名变量时，用它提前打招呼。  \n",
    "12. 数据类型（data type）：给盒子贴“里面东西的类别”标签；Python 会自动识别，也能显式标注。  \n",
    "13. 整型（int）：纯整数，常用于像素坐标、颜色通道等离散值。  \n",
    "14. 浮点型（float）：带小数点的数，用于角度、速度、时间等连续量。  \n",
    "15. 布尔型（bool）：只有 True 和 False 两种状态，专管逻辑判断。  \n",
    "16. 字符串（str）：文字序列，用引号括起来，常见于 UI 文本、文件名等。  \n",
    "17. 列表（list）：可变、可增删、保持顺序的“动态数组”。  \n",
    "18. 元组（tuple）：有序但不可改的“定格数组”，适合存常量组合，如 (255, 200, 0)。  \n",
    "19. 集合（set）：元素唯一、无序，可高效去重，如实时记录“按下过的键”。  \n",
    "20. 字典（dict）：键值对结构，像迷你数据库，键唯一、值任意。  \n",
    "21. 类型注解（type hint）：在变量后写 : 类型名，给阅读器和静态检查工具看，运行时可不强制。  \n",
    "22. 强类型语言 vs. 弱类型语言：前者写变量必须先声明类型（如 C、Java），后者（Python）类型跟着值走，可随时变。  \n",
    "23. 算术运算符：+ - * / // % ** ，处理数字间加减乘除、取整、取余、幂次。  \n",
    "24. 逻辑运算符：and or not （再加比较符号 == != > < >= <= ），用于条件判断。  \n",
    "25. 字符串运算符：+ 拼接、* 重复、in / not in 子串检测等。  \n",
    "26. 指针 / 引用（文中提及概念）：内存中“盒子地址”的高级话题，Python 用户日常较少直接操作。  \n",
    "27. 内存模型：变量名 → 引用 → 实际对象，Python 有垃圾回收负责回收没人用的对象。  \n",
    "28. 复合赋值（+= -= *= 等）：读、改、写一步到位，让代码更精简。  \n",
    "29. 全局状态陷阱：全局变量太多易让代码难维护，能局部就局部。  \n",
    "30. 同名冲突：自己写变量前先想想有没有系统变量或同文件其他名字占用，避免“顶掉”原功能。"
   ]
  },
  {
   "cell_type": "markdown",
   "id": "a78689bf",
   "metadata": {},
   "source": [
    "##### 课后练习"
   ]
  },
  {
   "cell_type": "markdown",
   "id": "ef97bf2e",
   "metadata": {},
   "source": [
    "**基础练习**\n",
    "\n",
    "1. 判断题：变量的最大特点是“可变”。（  ）  \n",
    "2. 填空：Python 推荐的变量命名风格是 __________（大小写 + 下划线）。  \n",
    "3. 选择题：下面哪个可以作为合法变量名?   \n",
    "    A. 2player B. player_2 C. class D. player-2  \n",
    "4. 简答：什么是“系统变量”？请举出 Py5 自带的任意两个系统变量名。  \n",
    "5. 填空：想在函数内部修改全局变量，必须使用关键字 __________。  \n",
    "6. 判断题：在同一个代码块内，a = 5 再写 a = \"hi\"，Python 会报错。（  ）  \n",
    "7. 选择题：以下字面量属于布尔型的是?  \n",
    "     A. \"True\" B. 1 C. True D. \"False\"  \n",
    "8. 填空：表达式 7 // 3 的结果是 ______，而 7 / 3 的结果是 ______。  \n",
    "9. 判断题：'p' in \"apple\" 的运算结果为 True。（  ）  \n",
    "10. 简答：写出把变量 price（整型）和 unit（字符串）正确拼接成一句话的方法。  \n",
    "11. 判断题：在 Python 中变量名区分大小写，Count 和 count 指向同一个变量。（  ）  \n",
    "12. 选择题：下列哪一项描述了“作用域”概念？   \n",
    "    A. 变量所占字节数 B. 变量作用的代码范围 C. 变量的类型 D. 变量的默认值  \n",
    "\n",
    "**实践操作题**\n",
    "\n",
    "13. 【打印验证】  \n",
    "    声明三个变量 name（字符串）、age（整型）、is_student（布尔型），用一条 print 语句把它们按 “姓名-年龄-是否学生” 的格式打印出来。  \n",
    "\n",
    "14. 【值交换】  \n",
    "    有变量 a = 3, b = 7，实现只用另一行代码就把二者的值互换，再用 print 验证。  \n",
    "\n",
    "15. 【自增计数器】  \n",
    "    写一段 Py5 草图：窗口左上角显示变量 counter 的值。每次按下任意键，把 counter +1 并立即刷新显示。  \n",
    "\n",
    "16. 【灰度背景调节】  \n",
    "    在 draw() 中使用变量 gray = 128 作为背景灰度。按 ↑ 键 gray += 5，按 ↓ 键 gray -= 5（范围限制 0-255）。  \n",
    "\n",
    "17. 【颜色字符串】  \n",
    "    创建三个整型变量 r, g, b，随机给定 0-255 的值；再创建字符串 color_txt，内容形如 \"RGB(125,200,50)\"。将 color_txt 通过 py5.text 显示在窗口中心。  "
   ]
  },
  {
   "cell_type": "markdown",
   "id": "f1be22ab",
   "metadata": {},
   "source": [
    "##### 扩展知识"
   ]
  },
  {
   "cell_type": "markdown",
   "id": "84dcb9b7",
   "metadata": {},
   "source": [
    "**计算机中数字的保存方式**\n",
    "\n",
    "计算机最擅长的就是处理数字，但它“理解”的数字不是我们眼中0到9这样的阿拉伯数字，而是只有0和1的二进制。我们随手写一个`-1`或者`3.14`，计算机内部其实要经过一番“翻译”和专门的保存格式，才可以存进内存里。\n",
    "\n",
    "最常见的整数保存方法就是“补码”。简单来说，就是一种把正数负数都能“编码”成01串的办法，而且还能让计算器加法、减法不分家。比如`8位补码`，最大能表示127，最小能表示-128。搞个冷知识：绝大多数计算机体系结构（比如x86、ARM）都用补码。\n",
    "\n",
    "至于小数，难点来了：因为二进制小数经常是无限循环的，存不精确。单精度浮点（浮点数能存小数，顾名思义）一般有32位，能表示大约7位十进制有效数字；而“双精度”用了64位，自然更精确，可以记到15~16位左右。详细规则有国际标准（IEEE 754，感兴趣的可以查查），包括“符号位、指数、尾数”三大部分。这也是为什么有时候Python或者别的语言小数加减不精确——真的不是它懒，是物理定律（信息论）所限。\n",
    "\n",
    "**字符在计算机中的保存方式**\n",
    "\n",
    "你有没有好奇过，一个“a”字母或者一个“林”字，到底怎么塞进电脑的？这实际涉及到字符编码。最经典的是ASCII码——它只有128个字符，纯英语环境够用。比如字母A就是65，Z就是90，空格32，换行10。\n",
    "\n",
    "但全世界语言一多，ASCII可就不顶用了，所以后来有Unicode。Unicode是个“大家庭”，每一个符号、表情和汉语字都有唯一编号，还兼容ASCII，现代操作系统和主流编程语言都基本支持Unicode。Python默认字符串就是Unicode的。\n",
    "\n",
    "不过，Unicode的实现方式有“UTF-8、UTF-16、UTF-32”几种，区别在于一个字符用几个字节保存。UTF-8最大优点是英文字符还是1字节，汉字变3字节，经济实用、全球通吃。\n",
    "\n",
    "**计算机数据内存分配机制与垃圾回收机制**\n",
    "\n",
    "这里稍微有点技术门槛，但其实很好理解：把内存看成“房子”，变量是“客户”。我们常说的“内存分配”，其实就是给变量开房间，住进去。而“垃圾回收”——就是保洁员，定期来看哪些房间没人住、该清理腾出来。\n",
    "\n",
    "内存分配分两大类：静态分配（比如你写`int a = 1`，程序一启动就有了，动都没变过）和动态分配（比如你写Python的`list.append()`，背后其实是临时申请空间）。\n",
    "\n",
    "在程序使用的过程中`a`可能就会变没用，这时候他就变成了“垃圾”，如果这些“垃圾”数据堆积的过多，那电脑就会变得没有内存。\n",
    "\n",
    "垃圾回收机制，C/C++靠程序员手工安排（你负责丢垃圾），而像Python、Java这些现代语言，就带了自动垃圾回收。最常见的是“引用计数+标记清除”，也就是说每份数据有个小本本，记录被谁用；没人用了，马上或等一会儿删掉。要注意垃圾回收机制不是万能的，循环引用（两个孤岛互相指着对方）还是会失效，需要高级机制处理。\n",
    "\n",
    "**指针和引用的概念**\n",
    "\n",
    "在传统的编程学习时，指针一直是很难学习的一个知识，因为这会涉及到内存的调配，还好Python中默认不会使用指针，但是作为扩展阅读，还是应当了解一下。\n",
    "\n",
    "说到指针，不少初学者闻风丧胆。其实，指针就像是某间房间的“门牌号”，不是内容本身，而是内容的地址。如果你知道了“小红在302”，那“302”就是指针。C/C++、Go等语言有指针，能干的事非常多，写系统程序、操作底层数据必不可少。但你要自己保证指针不能乱写乱改，不然容易“炸房子”（内存泄漏或程序崩溃）。\n",
    "\n",
    "引用呢，更像是“座号”或“代号”，本质上也是指向一份数据，但它运用起来更安全、更透明、也少了“指针算术”等复杂操作。Python中一般不给直接用“指针”，但变量之间其实是“引用”关系，比如两个变量指向同一个list，对这个list的改动彼此看得见。\n",
    "\n",
    "**数据类型与值类型、作用域与命名空间概述**\n",
    "\n",
    "数据类型这个概念，是软件世界的“物种分类”。比如整数、浮点数、字符、布尔、数组、字典等等。不同语言支持的类型不一样，但都遵循“类型不同，能干的事和玩的花样也不一样”。\n",
    "\n",
    "值类型说的是：变量存放的是实际原始数据，比如整数、浮点这样的基础类型。引用类型是变量保存的其实是“地址”或“门牌号”，比如列表、字典、对象。Python的内置int/float/str通常可以视作值类型，但像list、dict、class等其实都靠引用互相联系。理解这个很关键，否则很容易写出自己看不懂的bug。\n",
    "\n",
    "**命名空间**\n",
    "\n",
    "“作用域和命名空间”暂且举个例子：作用域就好像“谁能看到这个变量”。比如你写在“厨房”的变量，卧室可能压根看不到。命名空间，是变量、函数等名号的“目录”，可以避免重名，每个“空间”井水不犯河水。跟文件夹结构很像。后面内容会有更详细展开，这里先留下悬念。\n",
    "\n",
    "**参考阅读：**\n",
    "\n",
    "- [菜鸟教程：原码、反码、补码](https://www.runoob.com/w3cnote/sign-magnitude.html)\n",
    "- [菜鸟教程：字符集](https://www.runoob.com/charsets/html-charsets.html)\n",
    "- [Python官方文档：内存管理](https://docs.python.org/3/c-api/memory.html)\n",
    "- [菜鸟教程：指针](https://www.runoob.com/cprogramming/c-pointers.html)"
   ]
  },
  {
   "cell_type": "markdown",
   "id": "54ef4fab",
   "metadata": {},
   "source": [
    "##### 练习题提示"
   ]
  },
  {
   "cell_type": "markdown",
   "id": "6af76b42",
   "metadata": {},
   "source": [
    "1. 判断：√（True）  \n",
    "2. 填空：snake_case  \n",
    "3. 选择：B  \n",
    "4. 简答：系统变量是 Py5/Processing 预先定义并自动更新的变量。示例：mouse_x、width（其它常见的如 mouse_y、height 等亦可）。  \n",
    "5. 填空：global  \n",
    "6. 判断：×（False）—— Python 允许同名变量在运行期被重新绑定为新类型。  \n",
    "7. 选择：C（True 和 False 不加引号时才是布尔型字面量）  \n",
    "8. 填空：2  2.3333333333333335（7/3 的浮点结果）  \n",
    "9. 判断：√（True）  \n",
    "10. 简答：可写 `print(f\"{price}{unit}\")` 或 `print(str(price) + unit)` 等；关键点是把整型转换为字符串再拼接。  \n",
    "11. 判断：×（False）—— Python 区分大小写。  \n",
    "12. 选择：B（变量作用的代码范围）  \n",
    "13. 创建三个变量后，用一次 `print(f\"{name}-{age}-{is_student}\")` 打印即可。  \n",
    "14. 交换：`a, b = b, a`（元组拆包交换值）。  \n",
    "15. 声明 `counter = 0` 为全局；在 `key_pressed()` 里 `counter += 1`，再在 `draw()` 中通过 `text(counter, 10, 20)` 显示。  \n",
    "16. 全局灰度变量 `gray = 128`；在 `key_pressed()` 判断 ↑↓ 键修改 gray 并用 `gray = constrain(gray, 0, 255)`（或手动 if）限制范围；`background(gray)` 刷新。  \n",
    "17. 随机赋值 r,g,b，构造 `color_txt = f\"RGB({r},{g},{b})\"`，`text(color_txt, width/2, height/2)` 居中显示。  "
   ]
  }
 ],
 "metadata": {
  "language_info": {
   "name": "python"
  }
 },
 "nbformat": 4,
 "nbformat_minor": 5
}
